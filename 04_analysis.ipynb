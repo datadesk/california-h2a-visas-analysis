{
 "cells": [
  {
   "cell_type": "markdown",
   "metadata": {},
   "source": [
    "# H2A visas analysis\n",
    "\n",
    "By [Ben Welsh](mailto:ben.welsh@latimes.com)\n",
    "\n",
    "The Los Angeles Times conducted an analysis of temporary visas granted to foreign agricultural workers by the United States Department of Labor via its H2A program.\n",
    "\n",
    "The results were reported in a May 25, 2017, Los Angeles Times story titled [\"Foobar\"]().\n",
    "\n",
    "Here are the key findings of the data analysis, which is documented below:\n",
    "\n",
    "* The total number of certified H2A visas is going up nationwide\n",
    "* California's total topped 11,000 last year, a fivefold increase from 2011\n",
    "* If this year’s hiring pace holds, that number will soar even higher\n",
    "* Counties on the Central Coast, from Ventura up to Santa Cruz, are driving the growth\n",
    "* Strawberries and lettuce crops have accounted for most of the new workers\n",
    "* The Santa Maria Valley, straddling San Louis Obispo and Santa Barbara counties, leapt from six sheepherders in 2012 to more than 2,000 guest farm workers last year\n",
    "* Strawberry workers account for most of the growth in that area"
   ]
  },
  {
   "cell_type": "markdown",
   "metadata": {},
   "source": [
    "## How we did it"
   ]
  },
  {
   "cell_type": "markdown",
   "metadata": {},
   "source": [
    "### Import Python analysis tools"
   ]
  },
  {
   "cell_type": "code",
   "execution_count": 159,
   "metadata": {
    "collapsed": true
   },
   "outputs": [],
   "source": [
    "import os\n",
    "import pandas as pd\n",
    "import geopandas as gp\n",
    "from datetime import date\n",
    "from shapely.geometry import Point"
   ]
  },
  {
   "cell_type": "code",
   "execution_count": 36,
   "metadata": {
    "collapsed": true
   },
   "outputs": [],
   "source": [
    "import warnings\n",
    "warnings.filterwarnings(\"ignore\")"
   ]
  },
  {
   "cell_type": "code",
   "execution_count": 37,
   "metadata": {
    "collapsed": true
   },
   "outputs": [],
   "source": [
    "pd.options.display.max_columns = None"
   ]
  },
  {
   "cell_type": "code",
   "execution_count": 38,
   "metadata": {
    "collapsed": true
   },
   "outputs": [],
   "source": [
    "%matplotlib inline"
   ]
  },
  {
   "cell_type": "code",
   "execution_count": 39,
   "metadata": {
    "collapsed": true
   },
   "outputs": [],
   "source": [
    "input_dir = os.path.join(os.getcwd(), 'input')\n",
    "output_dir = os.path.join(os.getcwd(), 'output')"
   ]
  },
  {
   "cell_type": "markdown",
   "metadata": {},
   "source": [
    "### Prepare the data for analysis"
   ]
  },
  {
   "cell_type": "markdown",
   "metadata": {},
   "source": [
    "Download the source data files from the U.S. Department of Labor's [Office of Foreign Labor Certification](https://www.foreignlaborcert.doleta.gov/performancedata.cfm)."
   ]
  },
  {
   "cell_type": "code",
   "execution_count": 40,
   "metadata": {
    "collapsed": true
   },
   "outputs": [],
   "source": [
    "%%capture\n",
    "%run 01_download.ipynb"
   ]
  },
  {
   "cell_type": "markdown",
   "metadata": {},
   "source": [
    "Prepare them for analysis by carefully combining annual lists, winnowing out duplicate entries and limiting the result to approved applications."
   ]
  },
  {
   "cell_type": "code",
   "execution_count": 41,
   "metadata": {
    "collapsed": true
   },
   "outputs": [],
   "source": [
    "%%capture\n",
    "%run 02_transform.ipynb"
   ]
  },
  {
   "cell_type": "markdown",
   "metadata": {},
   "source": [
    "Map work site locations"
   ]
  },
  {
   "cell_type": "code",
   "execution_count": 42,
   "metadata": {
    "collapsed": true
   },
   "outputs": [],
   "source": [
    "%%capture\n",
    "run 03_geocode.ipynb"
   ]
  },
  {
   "cell_type": "markdown",
   "metadata": {},
   "source": [
    "### Finding: The total number of certified H2A visas is going up nationwide"
   ]
  },
  {
   "cell_type": "markdown",
   "metadata": {},
   "source": [
    "Read in the transformed file for analysis"
   ]
  },
  {
   "cell_type": "code",
   "execution_count": 101,
   "metadata": {
    "collapsed": true
   },
   "outputs": [],
   "source": [
    "df = pd.read_csv(\n",
    "    os.path.join(output_dir, \"transformed_master_cases.csv\"),\n",
    "    index_col=\"latimes_id\",\n",
    ")"
   ]
  },
  {
   "cell_type": "markdown",
   "metadata": {},
   "source": [
    "Group by calendar year and sum the total number of certified workers"
   ]
  },
  {
   "cell_type": "code",
   "execution_count": 102,
   "metadata": {
    "collapsed": true
   },
   "outputs": [],
   "source": [
    "annual_usa = df.groupby(\"certification_start_year\").agg(dict(workers_certified=\"sum\"))"
   ]
  },
  {
   "cell_type": "code",
   "execution_count": 103,
   "metadata": {},
   "outputs": [
    {
     "data": {
      "text/plain": [
       "<matplotlib.axes._subplots.AxesSubplot at 0x7fc00b4a8250>"
      ]
     },
     "execution_count": 103,
     "metadata": {},
     "output_type": "execute_result"
    },
    {
     "data": {
      "image/png": "[encoded data removed]",
      "text/plain": [
       "<matplotlib.figure.Figure at 0x7fc00b4a8a10>"
      ]
     },
     "metadata": {},
     "output_type": "display_data"
    }
   ],
   "source": [
    "annual_usa.plot.bar(figsize=(15, 7))"
   ]
  },
  {
   "cell_type": "code",
   "execution_count": 104,
   "metadata": {},
   "outputs": [
    {
     "data": {
      "text/html": [
       "<div>\n",
       "<table border=\"1\" class=\"dataframe\">\n",
       "  <thead>\n",
       "    <tr style=\"text-align: right;\">\n",
       "      <th></th>\n",
       "      <th>workers_certified</th>\n",
       "    </tr>\n",
       "    <tr>\n",
       "      <th>certification_start_year</th>\n",
       "      <th></th>\n",
       "    </tr>\n",
       "  </thead>\n",
       "  <tbody>\n",
       "    <tr>\n",
       "      <th>2008.0</th>\n",
       "      <td>91324</td>\n",
       "    </tr>\n",
       "    <tr>\n",
       "      <th>2009.0</th>\n",
       "      <td>86604</td>\n",
       "    </tr>\n",
       "    <tr>\n",
       "      <th>2010.0</th>\n",
       "      <td>75617</td>\n",
       "    </tr>\n",
       "    <tr>\n",
       "      <th>2011.0</th>\n",
       "      <td>77221</td>\n",
       "    </tr>\n",
       "    <tr>\n",
       "      <th>2012.0</th>\n",
       "      <td>86725</td>\n",
       "    </tr>\n",
       "    <tr>\n",
       "      <th>2013.0</th>\n",
       "      <td>100360</td>\n",
       "    </tr>\n",
       "    <tr>\n",
       "      <th>2014.0</th>\n",
       "      <td>119240</td>\n",
       "    </tr>\n",
       "    <tr>\n",
       "      <th>2015.0</th>\n",
       "      <td>140701</td>\n",
       "    </tr>\n",
       "    <tr>\n",
       "      <th>2016.0</th>\n",
       "      <td>166457</td>\n",
       "    </tr>\n",
       "    <tr>\n",
       "      <th>2017.0</th>\n",
       "      <td>79893</td>\n",
       "    </tr>\n",
       "  </tbody>\n",
       "</table>\n",
       "</div>"
      ],
      "text/plain": [
       "                          workers_certified\n",
       "certification_start_year                   \n",
       "2008.0                                91324\n",
       "2009.0                                86604\n",
       "2010.0                                75617\n",
       "2011.0                                77221\n",
       "2012.0                                86725\n",
       "2013.0                               100360\n",
       "2014.0                               119240\n",
       "2015.0                               140701\n",
       "2016.0                               166457\n",
       "2017.0                                79893"
      ]
     },
     "execution_count": 104,
     "metadata": {},
     "output_type": "execute_result"
    }
   ],
   "source": [
    "annual_usa"
   ]
  },
  {
   "cell_type": "markdown",
   "metadata": {},
   "source": [
    "### Finding: California's total topped 11,000 last year, a fivefold increase from 2011"
   ]
  },
  {
   "cell_type": "markdown",
   "metadata": {},
   "source": [
    "Group the applications by state and year"
   ]
  },
  {
   "cell_type": "code",
   "execution_count": 105,
   "metadata": {
    "collapsed": true
   },
   "outputs": [],
   "source": [
    "state_totals = df.groupby(['state', 'certification_start_year']).agg(dict(workers_certified=\"sum\"))"
   ]
  },
  {
   "cell_type": "markdown",
   "metadata": {},
   "source": [
    "Create a crosstab for a graphic and comparison"
   ]
  },
  {
   "cell_type": "code",
   "execution_count": 106,
   "metadata": {
    "collapsed": true
   },
   "outputs": [],
   "source": [
    "state_crosstab = state_totals.unstack(1).fillna(0)"
   ]
  },
  {
   "cell_type": "markdown",
   "metadata": {},
   "source": [
    "Output it for a graphic"
   ]
  },
  {
   "cell_type": "code",
   "execution_count": 107,
   "metadata": {
    "collapsed": true
   },
   "outputs": [],
   "source": [
    "state_crosstab.to_csv(\"./output/state_crosstab.csv\")"
   ]
  },
  {
   "cell_type": "markdown",
   "metadata": {},
   "source": [
    "Filter down to just California's totals"
   ]
  },
  {
   "cell_type": "code",
   "execution_count": 108,
   "metadata": {
    "collapsed": true
   },
   "outputs": [],
   "source": [
    "ca_totals = state_totals[state_totals.index.get_level_values(0) == 'CA']"
   ]
  },
  {
   "cell_type": "markdown",
   "metadata": {},
   "source": [
    "Ouput the annual totals"
   ]
  },
  {
   "cell_type": "code",
   "execution_count": 109,
   "metadata": {},
   "outputs": [
    {
     "data": {
      "text/plain": [
       "<matplotlib.axes._subplots.AxesSubplot at 0x7fc00c442350>"
      ]
     },
     "execution_count": 109,
     "metadata": {},
     "output_type": "execute_result"
    },
    {
     "data": {
      "image/png": "[encoded data removed]",
      "text/plain": [
       "<matplotlib.figure.Figure at 0x7fc00c812750>"
      ]
     },
     "metadata": {},
     "output_type": "display_data"
    }
   ],
   "source": [
    "ca_totals.workers_certified.plot.bar(figsize=(15, 7))"
   ]
  },
  {
   "cell_type": "code",
   "execution_count": 110,
   "metadata": {},
   "outputs": [
    {
     "data": {
      "text/html": [
       "<div>\n",
       "<table border=\"1\" class=\"dataframe\">\n",
       "  <thead>\n",
       "    <tr style=\"text-align: right;\">\n",
       "      <th></th>\n",
       "      <th></th>\n",
       "      <th>workers_certified</th>\n",
       "    </tr>\n",
       "    <tr>\n",
       "      <th>state</th>\n",
       "      <th>certification_start_year</th>\n",
       "      <th></th>\n",
       "    </tr>\n",
       "  </thead>\n",
       "  <tbody>\n",
       "    <tr>\n",
       "      <th rowspan=\"10\" valign=\"top\">CA</th>\n",
       "      <th>2008.0</th>\n",
       "      <td>3353</td>\n",
       "    </tr>\n",
       "    <tr>\n",
       "      <th>2009.0</th>\n",
       "      <td>2941</td>\n",
       "    </tr>\n",
       "    <tr>\n",
       "      <th>2010.0</th>\n",
       "      <td>2298</td>\n",
       "    </tr>\n",
       "    <tr>\n",
       "      <th>2011.0</th>\n",
       "      <td>1774</td>\n",
       "    </tr>\n",
       "    <tr>\n",
       "      <th>2012.0</th>\n",
       "      <td>3249</td>\n",
       "    </tr>\n",
       "    <tr>\n",
       "      <th>2013.0</th>\n",
       "      <td>4291</td>\n",
       "    </tr>\n",
       "    <tr>\n",
       "      <th>2014.0</th>\n",
       "      <td>6011</td>\n",
       "    </tr>\n",
       "    <tr>\n",
       "      <th>2015.0</th>\n",
       "      <td>8529</td>\n",
       "    </tr>\n",
       "    <tr>\n",
       "      <th>2016.0</th>\n",
       "      <td>11131</td>\n",
       "    </tr>\n",
       "    <tr>\n",
       "      <th>2017.0</th>\n",
       "      <td>6230</td>\n",
       "    </tr>\n",
       "  </tbody>\n",
       "</table>\n",
       "</div>"
      ],
      "text/plain": [
       "                                workers_certified\n",
       "state certification_start_year                   \n",
       "CA    2008.0                                 3353\n",
       "      2009.0                                 2941\n",
       "      2010.0                                 2298\n",
       "      2011.0                                 1774\n",
       "      2012.0                                 3249\n",
       "      2013.0                                 4291\n",
       "      2014.0                                 6011\n",
       "      2015.0                                 8529\n",
       "      2016.0                                11131\n",
       "      2017.0                                 6230"
      ]
     },
     "execution_count": 110,
     "metadata": {},
     "output_type": "execute_result"
    }
   ],
   "source": [
    "ca_totals"
   ]
  },
  {
   "cell_type": "markdown",
   "metadata": {},
   "source": [
    "Trim down to the last five years of data and calculate California's percentage change"
   ]
  },
  {
   "cell_type": "code",
   "execution_count": 111,
   "metadata": {
    "collapsed": true
   },
   "outputs": [],
   "source": [
    "ca_last_five = ca_totals[\n",
    "    (ca_totals.index.get_level_values(1) > 2010) &\n",
    "    (ca_totals.index.get_level_values(1) < 2017)\n",
    "].reset_index()"
   ]
  },
  {
   "cell_type": "code",
   "execution_count": 112,
   "metadata": {
    "collapsed": true
   },
   "outputs": [],
   "source": [
    "ca_pct_change = ca_last_five[[\n",
    "  'certification_start_year',\n",
    "  'workers_certified'\n",
    "]].set_index('certification_start_year').pct_change(\n",
    "    len(ca_last_five)-1\n",
    ")"
   ]
  },
  {
   "cell_type": "code",
   "execution_count": 113,
   "metadata": {},
   "outputs": [
    {
     "name": "stdout",
     "output_type": "stream",
     "text": [
      "Percent change: 527.45%\n"
     ]
    }
   ],
   "source": [
    "print \"Percent change: %s%%\" % round(ca_pct_change.at[2016.0, 'workers_certified']*100, 2)"
   ]
  },
  {
   "cell_type": "markdown",
   "metadata": {},
   "source": [
    "Output for a graphic"
   ]
  },
  {
   "cell_type": "code",
   "execution_count": 114,
   "metadata": {
    "collapsed": true
   },
   "outputs": [],
   "source": [
    "ca_totals.reset_index()[['certification_start_year', 'workers_certified']].to_csv(\n",
    "    \"./output/california-totals-graphics.csv\",\n",
    "    index=False\n",
    ")"
   ]
  },
  {
   "cell_type": "markdown",
   "metadata": {},
   "source": [
    "### Finding: If this year’s hiring pace holds, that number will soar even higher"
   ]
  },
  {
   "cell_type": "markdown",
   "metadata": {},
   "source": [
    "Convert the start date column to a datetime object"
   ]
  },
  {
   "cell_type": "code",
   "execution_count": 158,
   "metadata": {},
   "outputs": [],
   "source": [
    "df.certification_start_date = pd.to_datetime(df.certification_start_date)"
   ]
  },
  {
   "cell_type": "markdown",
   "metadata": {},
   "source": [
    "Pull out the first four months of this year versus last year"
   ]
  },
  {
   "cell_type": "code",
   "execution_count": 169,
   "metadata": {
    "collapsed": true
   },
   "outputs": [],
   "source": [
    "first_four_16 = df[\n",
    "    (df.state == 'CA') &\n",
    "    (df.certification_start_date >= date(2016, 1, 1)) & \n",
    "    (df.certification_start_date < date(2016, 5, 1))\n",
    "]"
   ]
  },
  {
   "cell_type": "code",
   "execution_count": 170,
   "metadata": {
    "collapsed": true
   },
   "outputs": [],
   "source": [
    "first_four_17 = df[\n",
    "    (df.state == 'CA') &\n",
    "    (df.certification_start_date >= date(2017, 1, 1)) & \n",
    "    (df.certification_start_date < date(2017, 5, 1))\n",
    "]"
   ]
  },
  {
   "cell_type": "markdown",
   "metadata": {},
   "source": [
    "Compare the total hires in that period"
   ]
  },
  {
   "cell_type": "code",
   "execution_count": 171,
   "metadata": {},
   "outputs": [
    {
     "data": {
      "text/plain": [
       "4838"
      ]
     },
     "execution_count": 171,
     "metadata": {},
     "output_type": "execute_result"
    }
   ],
   "source": [
    "first_four_16.workers_certified.sum()"
   ]
  },
  {
   "cell_type": "code",
   "execution_count": 172,
   "metadata": {},
   "outputs": [
    {
     "data": {
      "text/plain": [
       "6115"
      ]
     },
     "execution_count": 172,
     "metadata": {},
     "output_type": "execute_result"
    }
   ],
   "source": [
    "first_four_17.workers_certified.sum()"
   ]
  },
  {
   "cell_type": "markdown",
   "metadata": {},
   "source": [
    "### Finding: Counties on the Central Coast, from Ventura up to Santa Cruz, are driving the growth"
   ]
  },
  {
   "cell_type": "markdown",
   "metadata": {},
   "source": [
    "Read in all \"sub\" cases rather than the master cases. This allows for the farms where workers are actually employed to be mapped, rather than the the \"master cases\" of middlemen who sometimes file the \"master\" applications. "
   ]
  },
  {
   "cell_type": "code",
   "execution_count": 115,
   "metadata": {
    "collapsed": true
   },
   "outputs": [],
   "source": [
    "combined_df = pd.read_csv(os.path.join(output_dir, \"geocoded_all_cases.csv\"))"
   ]
  },
  {
   "cell_type": "markdown",
   "metadata": {},
   "source": [
    "Convert to a geodataframe."
   ]
  },
  {
   "cell_type": "code",
   "execution_count": 116,
   "metadata": {
    "collapsed": true
   },
   "outputs": [],
   "source": [
    "def create_point(row):\n",
    "    if row.lng and row.lat:\n",
    "        return Point(row.lng, row.lat)\n",
    "    return ''"
   ]
  },
  {
   "cell_type": "code",
   "execution_count": 117,
   "metadata": {
    "collapsed": true
   },
   "outputs": [],
   "source": [
    "combined_df['geometry'] = combined_df.apply(create_point, axis=1)"
   ]
  },
  {
   "cell_type": "code",
   "execution_count": 118,
   "metadata": {
    "collapsed": true
   },
   "outputs": [],
   "source": [
    "gdf = gp.GeoDataFrame(combined_df)"
   ]
  },
  {
   "cell_type": "code",
   "execution_count": 119,
   "metadata": {
    "collapsed": true
   },
   "outputs": [],
   "source": [
    "gdf.crs = {'init' :'epsg:4269'}"
   ]
  },
  {
   "cell_type": "markdown",
   "metadata": {},
   "source": [
    "Exclude cases that could not be mapped."
   ]
  },
  {
   "cell_type": "code",
   "execution_count": 120,
   "metadata": {},
   "outputs": [
    {
     "name": "stderr",
     "output_type": "stream",
     "text": [
      "Invalid Coordinate at or near point nan nan\n",
      "Invalid Coordinate at or near point nan nan\n",
      "Invalid Coordinate at or near point nan nan\n",
      "Invalid Coordinate at or near point nan nan\n",
      "Invalid Coordinate at or near point nan nan\n",
      "Invalid Coordinate at or near point nan nan\n",
      "Invalid Coordinate at or near point nan nan\n",
      "Invalid Coordinate at or near point nan nan\n",
      "Invalid Coordinate at or near point nan nan\n",
      "Invalid Coordinate at or near point nan nan\n",
      "Invalid Coordinate at or near point nan nan\n",
      "Invalid Coordinate at or near point nan nan\n",
      "Invalid Coordinate at or near point nan nan\n",
      "Invalid Coordinate at or near point nan nan\n",
      "Invalid Coordinate at or near point nan nan\n",
      "Invalid Coordinate at or near point nan nan\n",
      "Invalid Coordinate at or near point nan nan\n",
      "Invalid Coordinate at or near point nan nan\n",
      "Invalid Coordinate at or near point nan nan\n",
      "Invalid Coordinate at or near point nan nan\n",
      "Invalid Coordinate at or near point nan nan\n",
      "Invalid Coordinate at or near point nan nan\n",
      "Invalid Coordinate at or near point nan nan\n",
      "Invalid Coordinate at or near point nan nan\n",
      "Invalid Coordinate at or near point nan nan\n",
      "Invalid Coordinate at or near point nan nan\n",
      "Invalid Coordinate at or near point nan nan\n",
      "Invalid Coordinate at or near point nan nan\n",
      "Invalid Coordinate at or near point nan nan\n",
      "Invalid Coordinate at or near point nan nan\n",
      "Invalid Coordinate at or near point nan nan\n",
      "Invalid Coordinate at or near point nan nan\n",
      "Invalid Coordinate at or near point nan nan\n",
      "Invalid Coordinate at or near point nan nan\n",
      "Invalid Coordinate at or near point nan nan\n",
      "Invalid Coordinate at or near point nan nan\n",
      "Invalid Coordinate at or near point nan nan\n",
      "Invalid Coordinate at or near point nan nan\n",
      "Invalid Coordinate at or near point nan nan\n",
      "Invalid Coordinate at or near point nan nan\n",
      "Invalid Coordinate at or near point nan nan\n",
      "Invalid Coordinate at or near point nan nan\n",
      "Invalid Coordinate at or near point nan nan\n",
      "Invalid Coordinate at or near point nan nan\n",
      "Invalid Coordinate at or near point nan nan\n",
      "Invalid Coordinate at or near point nan nan\n",
      "Invalid Coordinate at or near point nan nan\n",
      "Invalid Coordinate at or near point nan nan\n",
      "Invalid Coordinate at or near point nan nan\n",
      "Invalid Coordinate at or near point nan nan\n",
      "Invalid Coordinate at or near point nan nan\n",
      "Invalid Coordinate at or near point nan nan\n",
      "Invalid Coordinate at or near point nan nan\n",
      "Invalid Coordinate at or near point nan nan\n",
      "Invalid Coordinate at or near point nan nan\n",
      "Invalid Coordinate at or near point nan nan\n",
      "Invalid Coordinate at or near point nan nan\n",
      "Invalid Coordinate at or near point nan nan\n",
      "Invalid Coordinate at or near point nan nan\n",
      "Invalid Coordinate at or near point nan nan\n",
      "Invalid Coordinate at or near point nan nan\n",
      "Invalid Coordinate at or near point nan nan\n",
      "Invalid Coordinate at or near point nan nan\n",
      "Invalid Coordinate at or near point nan nan\n",
      "Invalid Coordinate at or near point nan nan\n",
      "Invalid Coordinate at or near point nan nan\n",
      "Invalid Coordinate at or near point nan nan\n",
      "Invalid Coordinate at or near point nan nan\n",
      "Invalid Coordinate at or near point nan nan\n",
      "Invalid Coordinate at or near point nan nan\n",
      "Invalid Coordinate at or near point nan nan\n",
      "Invalid Coordinate at or near point nan nan\n",
      "Invalid Coordinate at or near point nan nan\n",
      "Invalid Coordinate at or near point nan nan\n",
      "Invalid Coordinate at or near point nan nan\n",
      "Invalid Coordinate at or near point nan nan\n",
      "Invalid Coordinate at or near point nan nan\n",
      "Invalid Coordinate at or near point nan nan\n",
      "Invalid Coordinate at or near point nan nan\n",
      "Invalid Coordinate at or near point nan nan\n",
      "Invalid Coordinate at or near point nan nan\n",
      "Invalid Coordinate at or near point nan nan\n",
      "Invalid Coordinate at or near point nan nan\n",
      "Invalid Coordinate at or near point nan nan\n",
      "Invalid Coordinate at or near point nan nan\n",
      "Invalid Coordinate at or near point nan nan\n",
      "Invalid Coordinate at or near point nan nan\n",
      "Invalid Coordinate at or near point nan nan\n",
      "Invalid Coordinate at or near point nan nan\n",
      "Invalid Coordinate at or near point nan nan\n",
      "Invalid Coordinate at or near point nan nan\n",
      "Invalid Coordinate at or near point nan nan\n",
      "Invalid Coordinate at or near point nan nan\n",
      "Invalid Coordinate at or near point nan nan\n",
      "Invalid Coordinate at or near point nan nan\n",
      "Invalid Coordinate at or near point nan nan\n",
      "Invalid Coordinate at or near point nan nan\n",
      "Invalid Coordinate at or near point nan nan\n",
      "Invalid Coordinate at or near point nan nan\n",
      "Invalid Coordinate at or near point nan nan\n",
      "Invalid Coordinate at or near point nan nan\n",
      "Invalid Coordinate at or near point nan nan\n",
      "Invalid Coordinate at or near point nan nan\n",
      "Invalid Coordinate at or near point nan nan\n",
      "Invalid Coordinate at or near point nan nan\n",
      "Invalid Coordinate at or near point nan nan\n",
      "Invalid Coordinate at or near point nan nan\n",
      "Invalid Coordinate at or near point nan nan\n",
      "Invalid Coordinate at or near point nan nan\n",
      "Invalid Coordinate at or near point nan nan\n",
      "Invalid Coordinate at or near point nan nan\n",
      "Invalid Coordinate at or near point nan nan\n",
      "Invalid Coordinate at or near point nan nan\n",
      "Invalid Coordinate at or near point nan nan\n",
      "Invalid Coordinate at or near point nan nan\n",
      "Invalid Coordinate at or near point nan nan\n",
      "Invalid Coordinate at or near point nan nan\n",
      "Invalid Coordinate at or near point nan nan\n",
      "Invalid Coordinate at or near point nan nan\n",
      "Invalid Coordinate at or near point nan nan\n",
      "Invalid Coordinate at or near point nan nan\n",
      "Invalid Coordinate at or near point nan nan\n",
      "Invalid Coordinate at or near point nan nan\n",
      "Invalid Coordinate at or near point nan nan\n",
      "Invalid Coordinate at or near point nan nan\n",
      "Invalid Coordinate at or near point nan nan\n",
      "Invalid Coordinate at or near point nan nan\n",
      "Invalid Coordinate at or near point nan nan\n",
      "Invalid Coordinate at or near point nan nan\n",
      "Invalid Coordinate at or near point nan nan\n",
      "Invalid Coordinate at or near point nan nan\n",
      "Invalid Coordinate at or near point nan nan\n",
      "Invalid Coordinate at or near point nan nan\n",
      "Invalid Coordinate at or near point nan nan\n",
      "Invalid Coordinate at or near point nan nan\n",
      "Invalid Coordinate at or near point nan nan\n",
      "Invalid Coordinate at or near point nan nan\n",
      "Invalid Coordinate at or near point nan nan\n",
      "Invalid Coordinate at or near point nan nan\n",
      "Invalid Coordinate at or near point nan nan\n",
      "Invalid Coordinate at or near point nan nan\n",
      "Invalid Coordinate at or near point nan nan\n",
      "Invalid Coordinate at or near point nan nan\n",
      "Invalid Coordinate at or near point nan nan\n",
      "Invalid Coordinate at or near point nan nan\n",
      "Invalid Coordinate at or near point nan nan\n",
      "Invalid Coordinate at or near point nan nan\n",
      "Invalid Coordinate at or near point nan nan\n",
      "Invalid Coordinate at or near point nan nan\n",
      "Invalid Coordinate at or near point nan nan\n",
      "Invalid Coordinate at or near point nan nan\n",
      "Invalid Coordinate at or near point nan nan\n",
      "Invalid Coordinate at or near point nan nan\n",
      "Invalid Coordinate at or near point nan nan\n",
      "Invalid Coordinate at or near point nan nan\n",
      "Invalid Coordinate at or near point nan nan\n",
      "Invalid Coordinate at or near point nan nan\n",
      "Invalid Coordinate at or near point nan nan\n",
      "Invalid Coordinate at or near point nan nan\n",
      "Invalid Coordinate at or near point nan nan\n",
      "Invalid Coordinate at or near point nan nan\n",
      "Invalid Coordinate at or near point nan nan\n",
      "Invalid Coordinate at or near point nan nan\n",
      "Invalid Coordinate at or near point nan nan\n",
      "Invalid Coordinate at or near point nan nan\n",
      "Invalid Coordinate at or near point nan nan\n",
      "Invalid Coordinate at or near point nan nan\n",
      "Invalid Coordinate at or near point nan nan\n",
      "Invalid Coordinate at or near point nan nan\n",
      "Invalid Coordinate at or near point nan nan\n",
      "Invalid Coordinate at or near point nan nan\n",
      "Invalid Coordinate at or near point nan nan\n",
      "Invalid Coordinate at or near point nan nan\n",
      "Invalid Coordinate at or near point nan nan\n",
      "Invalid Coordinate at or near point nan nan\n",
      "Invalid Coordinate at or near point nan nan\n",
      "Invalid Coordinate at or near point nan nan\n",
      "Invalid Coordinate at or near point nan nan\n",
      "Invalid Coordinate at or near point nan nan\n",
      "Invalid Coordinate at or near point nan nan\n",
      "Invalid Coordinate at or near point nan nan\n",
      "Invalid Coordinate at or near point nan nan\n",
      "Invalid Coordinate at or near point nan nan\n",
      "Invalid Coordinate at or near point nan nan\n",
      "Invalid Coordinate at or near point nan nan\n",
      "Invalid Coordinate at or near point nan nan\n",
      "Invalid Coordinate at or near point nan nan\n"
     ]
    },
    {
     "name": "stderr",
     "output_type": "stream",
     "text": [
      "Invalid Coordinate at or near point nan nan\n",
      "Invalid Coordinate at or near point nan nan\n",
      "Invalid Coordinate at or near point nan nan\n",
      "Invalid Coordinate at or near point nan nan\n",
      "Invalid Coordinate at or near point nan nan\n",
      "Invalid Coordinate at or near point nan nan\n",
      "Invalid Coordinate at or near point nan nan\n",
      "Invalid Coordinate at or near point nan nan\n",
      "Invalid Coordinate at or near point nan nan\n",
      "Invalid Coordinate at or near point nan nan\n",
      "Invalid Coordinate at or near point nan nan\n",
      "Invalid Coordinate at or near point nan nan\n",
      "Invalid Coordinate at or near point nan nan\n",
      "Invalid Coordinate at or near point nan nan\n",
      "Invalid Coordinate at or near point nan nan\n",
      "Invalid Coordinate at or near point nan nan\n",
      "Invalid Coordinate at or near point nan nan\n",
      "Invalid Coordinate at or near point nan nan\n",
      "Invalid Coordinate at or near point nan nan\n",
      "Invalid Coordinate at or near point nan nan\n",
      "Invalid Coordinate at or near point nan nan\n",
      "Invalid Coordinate at or near point nan nan\n",
      "Invalid Coordinate at or near point nan nan\n",
      "Invalid Coordinate at or near point nan nan\n",
      "Invalid Coordinate at or near point nan nan\n",
      "Invalid Coordinate at or near point nan nan\n",
      "Invalid Coordinate at or near point nan nan\n",
      "Invalid Coordinate at or near point nan nan\n",
      "Invalid Coordinate at or near point nan nan\n",
      "Invalid Coordinate at or near point nan nan\n",
      "Invalid Coordinate at or near point nan nan\n",
      "Invalid Coordinate at or near point nan nan\n",
      "Invalid Coordinate at or near point nan nan\n",
      "Invalid Coordinate at or near point nan nan\n",
      "Invalid Coordinate at or near point nan nan\n",
      "Invalid Coordinate at or near point nan nan\n",
      "Invalid Coordinate at or near point nan nan\n",
      "Invalid Coordinate at or near point nan nan\n",
      "Invalid Coordinate at or near point nan nan\n",
      "Invalid Coordinate at or near point nan nan\n",
      "Invalid Coordinate at or near point nan nan\n",
      "Invalid Coordinate at or near point nan nan\n",
      "Invalid Coordinate at or near point nan nan\n",
      "Invalid Coordinate at or near point nan nan\n",
      "Invalid Coordinate at or near point nan nan\n",
      "Invalid Coordinate at or near point nan nan\n",
      "Invalid Coordinate at or near point nan nan\n",
      "Invalid Coordinate at or near point nan nan\n",
      "Invalid Coordinate at or near point nan nan\n",
      "Invalid Coordinate at or near point nan nan\n",
      "Invalid Coordinate at or near point nan nan\n",
      "Invalid Coordinate at or near point nan nan\n",
      "Invalid Coordinate at or near point nan nan\n",
      "Invalid Coordinate at or near point nan nan\n",
      "Invalid Coordinate at or near point nan nan\n",
      "Invalid Coordinate at or near point nan nan\n",
      "Invalid Coordinate at or near point nan nan\n",
      "Invalid Coordinate at or near point nan nan\n",
      "Invalid Coordinate at or near point nan nan\n",
      "Invalid Coordinate at or near point nan nan\n",
      "Invalid Coordinate at or near point nan nan\n",
      "Invalid Coordinate at or near point nan nan\n"
     ]
    }
   ],
   "source": [
    "valid_gdf = gdf[gdf.is_valid == True]"
   ]
  },
  {
   "cell_type": "markdown",
   "metadata": {},
   "source": [
    "Spatial join with county polygons"
   ]
  },
  {
   "cell_type": "code",
   "execution_count": 121,
   "metadata": {
    "collapsed": true
   },
   "outputs": [],
   "source": [
    "counties = gp.read_file(os.path.join(input_dir, \"cb_2016_us_county_5m.shp\"))"
   ]
  },
  {
   "cell_type": "code",
   "execution_count": 122,
   "metadata": {
    "collapsed": true
   },
   "outputs": [],
   "source": [
    "gdf_with_county = gp.sjoin(counties, valid_gdf, how=\"inner\")"
   ]
  },
  {
   "cell_type": "markdown",
   "metadata": {},
   "source": [
    "Filter to California"
   ]
  },
  {
   "cell_type": "code",
   "execution_count": 123,
   "metadata": {
    "collapsed": true
   },
   "outputs": [],
   "source": [
    "ca_gdf = gdf_with_county[gdf_with_county.STATEFP == '06']"
   ]
  },
  {
   "cell_type": "markdown",
   "metadata": {},
   "source": [
    "Create a crosstab of the total number of workers by year in all California counties"
   ]
  },
  {
   "cell_type": "code",
   "execution_count": 124,
   "metadata": {
    "collapsed": true
   },
   "outputs": [],
   "source": [
    "county_crosstab = ca_gdf.groupby([\n",
    "    'NAME',\n",
    "    'certification_start_year'\n",
    "]).net_workers.sum().reset_index().set_index([\n",
    "    \"NAME\",\n",
    "    \"certification_start_year\"\n",
    "]).unstack(1).fillna(0)"
   ]
  },
  {
   "cell_type": "markdown",
   "metadata": {},
   "source": [
    "Strip all the pandas chrome off the crosstab"
   ]
  },
  {
   "cell_type": "code",
   "execution_count": 125,
   "metadata": {
    "collapsed": true
   },
   "outputs": [],
   "source": [
    "county_crosstab = county_crosstab.reset_index()\n",
    "county_crosstab.columns = county_crosstab.columns.droplevel(0)\n",
    "county_crosstab = county_crosstab.rename_axis(None, axis=1)\n",
    "county_crosstab = county_crosstab.set_index(\"\")"
   ]
  },
  {
   "cell_type": "markdown",
   "metadata": {},
   "source": [
    "Calculate the change in each county"
   ]
  },
  {
   "cell_type": "code",
   "execution_count": 126,
   "metadata": {
    "collapsed": true
   },
   "outputs": [],
   "source": [
    "county_crosstab['change_11to16'] = county_crosstab.apply(\n",
    "    lambda x: x[2016.0] - x[2011.0],\n",
    "    axis=1\n",
    ")"
   ]
  },
  {
   "cell_type": "markdown",
   "metadata": {},
   "source": [
    "Rank them by their change"
   ]
  },
  {
   "cell_type": "code",
   "execution_count": 127,
   "metadata": {},
   "outputs": [
    {
     "data": {
      "text/html": [
       "<div>\n",
       "<table border=\"1\" class=\"dataframe\">\n",
       "  <thead>\n",
       "    <tr style=\"text-align: right;\">\n",
       "      <th></th>\n",
       "      <th>2008.0</th>\n",
       "      <th>2009.0</th>\n",
       "      <th>2010.0</th>\n",
       "      <th>2011.0</th>\n",
       "      <th>2012.0</th>\n",
       "      <th>2013.0</th>\n",
       "      <th>2014.0</th>\n",
       "      <th>2015.0</th>\n",
       "      <th>2016.0</th>\n",
       "      <th>2017.0</th>\n",
       "      <th>change_11to16</th>\n",
       "    </tr>\n",
       "    <tr>\n",
       "      <th></th>\n",
       "      <th></th>\n",
       "      <th></th>\n",
       "      <th></th>\n",
       "      <th></th>\n",
       "      <th></th>\n",
       "      <th></th>\n",
       "      <th></th>\n",
       "      <th></th>\n",
       "      <th></th>\n",
       "      <th></th>\n",
       "      <th></th>\n",
       "    </tr>\n",
       "  </thead>\n",
       "  <tbody>\n",
       "    <tr>\n",
       "      <th>Monterey</th>\n",
       "      <td>396.0</td>\n",
       "      <td>806.0</td>\n",
       "      <td>80.0</td>\n",
       "      <td>0.0</td>\n",
       "      <td>204.0</td>\n",
       "      <td>266.0</td>\n",
       "      <td>366.0</td>\n",
       "      <td>1023.0</td>\n",
       "      <td>2318.0</td>\n",
       "      <td>1947.0</td>\n",
       "      <td>2318.0</td>\n",
       "    </tr>\n",
       "    <tr>\n",
       "      <th>Santa Barbara</th>\n",
       "      <td>0.0</td>\n",
       "      <td>2.0</td>\n",
       "      <td>0.0</td>\n",
       "      <td>0.0</td>\n",
       "      <td>0.0</td>\n",
       "      <td>158.0</td>\n",
       "      <td>909.0</td>\n",
       "      <td>1313.0</td>\n",
       "      <td>1450.0</td>\n",
       "      <td>1201.0</td>\n",
       "      <td>1450.0</td>\n",
       "    </tr>\n",
       "    <tr>\n",
       "      <th>Ventura</th>\n",
       "      <td>37.0</td>\n",
       "      <td>1.0</td>\n",
       "      <td>0.0</td>\n",
       "      <td>0.0</td>\n",
       "      <td>39.0</td>\n",
       "      <td>255.0</td>\n",
       "      <td>354.0</td>\n",
       "      <td>849.0</td>\n",
       "      <td>991.0</td>\n",
       "      <td>806.0</td>\n",
       "      <td>991.0</td>\n",
       "    </tr>\n",
       "    <tr>\n",
       "      <th>Santa Cruz</th>\n",
       "      <td>102.0</td>\n",
       "      <td>179.0</td>\n",
       "      <td>120.0</td>\n",
       "      <td>139.0</td>\n",
       "      <td>3.0</td>\n",
       "      <td>0.0</td>\n",
       "      <td>267.0</td>\n",
       "      <td>916.0</td>\n",
       "      <td>882.0</td>\n",
       "      <td>273.0</td>\n",
       "      <td>743.0</td>\n",
       "    </tr>\n",
       "    <tr>\n",
       "      <th>San Luis Obispo</th>\n",
       "      <td>11.0</td>\n",
       "      <td>14.0</td>\n",
       "      <td>7.0</td>\n",
       "      <td>12.0</td>\n",
       "      <td>6.0</td>\n",
       "      <td>52.0</td>\n",
       "      <td>83.0</td>\n",
       "      <td>286.0</td>\n",
       "      <td>639.0</td>\n",
       "      <td>285.0</td>\n",
       "      <td>627.0</td>\n",
       "    </tr>\n",
       "    <tr>\n",
       "      <th>San Diego</th>\n",
       "      <td>646.0</td>\n",
       "      <td>526.0</td>\n",
       "      <td>625.0</td>\n",
       "      <td>1.0</td>\n",
       "      <td>485.0</td>\n",
       "      <td>646.0</td>\n",
       "      <td>836.0</td>\n",
       "      <td>660.0</td>\n",
       "      <td>569.0</td>\n",
       "      <td>186.0</td>\n",
       "      <td>568.0</td>\n",
       "    </tr>\n",
       "    <tr>\n",
       "      <th>Imperial</th>\n",
       "      <td>566.0</td>\n",
       "      <td>374.0</td>\n",
       "      <td>396.0</td>\n",
       "      <td>556.0</td>\n",
       "      <td>663.0</td>\n",
       "      <td>851.0</td>\n",
       "      <td>985.0</td>\n",
       "      <td>868.0</td>\n",
       "      <td>1069.0</td>\n",
       "      <td>233.0</td>\n",
       "      <td>513.0</td>\n",
       "    </tr>\n",
       "    <tr>\n",
       "      <th>Santa Clara</th>\n",
       "      <td>1.0</td>\n",
       "      <td>5.0</td>\n",
       "      <td>0.0</td>\n",
       "      <td>0.0</td>\n",
       "      <td>0.0</td>\n",
       "      <td>0.0</td>\n",
       "      <td>0.0</td>\n",
       "      <td>120.0</td>\n",
       "      <td>310.0</td>\n",
       "      <td>12.0</td>\n",
       "      <td>310.0</td>\n",
       "    </tr>\n",
       "    <tr>\n",
       "      <th>Siskiyou</th>\n",
       "      <td>730.0</td>\n",
       "      <td>0.0</td>\n",
       "      <td>0.0</td>\n",
       "      <td>495.0</td>\n",
       "      <td>565.0</td>\n",
       "      <td>631.0</td>\n",
       "      <td>769.0</td>\n",
       "      <td>772.0</td>\n",
       "      <td>803.0</td>\n",
       "      <td>146.0</td>\n",
       "      <td>308.0</td>\n",
       "    </tr>\n",
       "    <tr>\n",
       "      <th>Fresno</th>\n",
       "      <td>80.0</td>\n",
       "      <td>59.0</td>\n",
       "      <td>17.0</td>\n",
       "      <td>32.0</td>\n",
       "      <td>36.0</td>\n",
       "      <td>5.0</td>\n",
       "      <td>35.0</td>\n",
       "      <td>208.0</td>\n",
       "      <td>286.0</td>\n",
       "      <td>34.0</td>\n",
       "      <td>254.0</td>\n",
       "    </tr>\n",
       "  </tbody>\n",
       "</table>\n",
       "</div>"
      ],
      "text/plain": [
       "                 2008.0  2009.0  2010.0  2011.0  2012.0  2013.0  2014.0  \\\n",
       "                                                                          \n",
       "Monterey          396.0   806.0    80.0     0.0   204.0   266.0   366.0   \n",
       "Santa Barbara       0.0     2.0     0.0     0.0     0.0   158.0   909.0   \n",
       "Ventura            37.0     1.0     0.0     0.0    39.0   255.0   354.0   \n",
       "Santa Cruz        102.0   179.0   120.0   139.0     3.0     0.0   267.0   \n",
       "San Luis Obispo    11.0    14.0     7.0    12.0     6.0    52.0    83.0   \n",
       "San Diego         646.0   526.0   625.0     1.0   485.0   646.0   836.0   \n",
       "Imperial          566.0   374.0   396.0   556.0   663.0   851.0   985.0   \n",
       "Santa Clara         1.0     5.0     0.0     0.0     0.0     0.0     0.0   \n",
       "Siskiyou          730.0     0.0     0.0   495.0   565.0   631.0   769.0   \n",
       "Fresno             80.0    59.0    17.0    32.0    36.0     5.0    35.0   \n",
       "\n",
       "                 2015.0  2016.0  2017.0  change_11to16  \n",
       "                                                        \n",
       "Monterey         1023.0  2318.0  1947.0         2318.0  \n",
       "Santa Barbara    1313.0  1450.0  1201.0         1450.0  \n",
       "Ventura           849.0   991.0   806.0          991.0  \n",
       "Santa Cruz        916.0   882.0   273.0          743.0  \n",
       "San Luis Obispo   286.0   639.0   285.0          627.0  \n",
       "San Diego         660.0   569.0   186.0          568.0  \n",
       "Imperial          868.0  1069.0   233.0          513.0  \n",
       "Santa Clara       120.0   310.0    12.0          310.0  \n",
       "Siskiyou          772.0   803.0   146.0          308.0  \n",
       "Fresno            208.0   286.0    34.0          254.0  "
      ]
     },
     "execution_count": 127,
     "metadata": {},
     "output_type": "execute_result"
    }
   ],
   "source": [
    "county_crosstab.sort_values(\"change_11to16\", ascending=False).head(10)"
   ]
  },
  {
   "cell_type": "markdown",
   "metadata": {},
   "source": [
    "Output that for a graphic"
   ]
  },
  {
   "cell_type": "code",
   "execution_count": 128,
   "metadata": {
    "collapsed": true
   },
   "outputs": [],
   "source": [
    "county_crosstab.to_csv(os.path.join(output_dir, \"county-crosstab.csv\"), encoding=\"utf-8\")"
   ]
  },
  {
   "cell_type": "markdown",
   "metadata": {},
   "source": [
    "Total up the workers by city for a map"
   ]
  },
  {
   "cell_type": "code",
   "execution_count": 129,
   "metadata": {
    "collapsed": true
   },
   "outputs": [],
   "source": [
    "ca_location_totals = ca_gdf.groupby([\n",
    "    \"certification_start_year\",\n",
    "    \"geocoder_address\",\n",
    "    \"lat\",\n",
    "    'lng',\n",
    "]).net_workers.sum().reset_index()"
   ]
  },
  {
   "cell_type": "code",
   "execution_count": 130,
   "metadata": {
    "collapsed": true
   },
   "outputs": [],
   "source": [
    "ca_location_totals['certification_start_year'] = ca_location_totals.certification_start_year.astype(int)"
   ]
  },
  {
   "cell_type": "code",
   "execution_count": 131,
   "metadata": {
    "collapsed": true
   },
   "outputs": [],
   "source": [
    "ca_location_totals['net_workers'] = ca_location_totals.net_workers.astype(int)"
   ]
  },
  {
   "cell_type": "code",
   "execution_count": 132,
   "metadata": {
    "collapsed": true
   },
   "outputs": [],
   "source": [
    "ca_location_totals.columns = [\n",
    "    'year',\n",
    "    'address',\n",
    "    'lat',\n",
    "    'lng',\n",
    "    'workers'\n",
    "]"
   ]
  },
  {
   "cell_type": "markdown",
   "metadata": {},
   "source": [
    "Output that for a graphic"
   ]
  },
  {
   "cell_type": "code",
   "execution_count": 133,
   "metadata": {
    "collapsed": true
   },
   "outputs": [],
   "source": [
    "ca_location_totals.to_csv(os.path.join(output_dir, \"ca_totals_by_location.csv\"), index=False)"
   ]
  },
  {
   "cell_type": "markdown",
   "metadata": {},
   "source": [
    "### Finding: Strawberries and lettuce crops have accounted for most of the new workers"
   ]
  },
  {
   "cell_type": "markdown",
   "metadata": {},
   "source": [
    "Regroup subcases in the state by our cleaned up version of the crop column"
   ]
  },
  {
   "cell_type": "code",
   "execution_count": 134,
   "metadata": {
    "collapsed": true
   },
   "outputs": [],
   "source": [
    "ca_crops = ca_gdf.groupby([\n",
    "    \"certification_start_year\",\n",
    "    \"latimes_crop\"\n",
    "]).net_workers.sum().reset_index().sort_values(\"net_workers\", ascending=False)"
   ]
  },
  {
   "cell_type": "markdown",
   "metadata": {},
   "source": [
    "Create a crosstab by year"
   ]
  },
  {
   "cell_type": "code",
   "execution_count": 135,
   "metadata": {
    "collapsed": true
   },
   "outputs": [],
   "source": [
    "crops_crosstab = ca_crops.set_index([\n",
    "    \"certification_start_year\",\n",
    "    \"latimes_crop\"\n",
    "]).unstack(0).fillna(0)"
   ]
  },
  {
   "cell_type": "markdown",
   "metadata": {},
   "source": [
    "Again, strip the pandas chrome from the crosstab"
   ]
  },
  {
   "cell_type": "code",
   "execution_count": 136,
   "metadata": {
    "collapsed": true
   },
   "outputs": [],
   "source": [
    "crops_crosstab = crops_crosstab.reset_index()\n",
    "crops_crosstab.columns = crops_crosstab.columns.droplevel(0)\n",
    "crops_crosstab = crops_crosstab.rename_axis(None, axis=1)\n",
    "crops_crosstab = crops_crosstab.set_index(\"\")"
   ]
  },
  {
   "cell_type": "markdown",
   "metadata": {
    "collapsed": true
   },
   "source": [
    "Calculate the change over the past five years"
   ]
  },
  {
   "cell_type": "code",
   "execution_count": 137,
   "metadata": {
    "collapsed": true
   },
   "outputs": [],
   "source": [
    "crops_crosstab['change_11to16'] = crops_crosstab.apply(\n",
    "    lambda x: x[2016.0] - x[2011.0],\n",
    "    axis=1\n",
    ")"
   ]
  },
  {
   "cell_type": "markdown",
   "metadata": {},
   "source": [
    "Rank the crops"
   ]
  },
  {
   "cell_type": "code",
   "execution_count": 138,
   "metadata": {},
   "outputs": [
    {
     "data": {
      "text/html": [
       "<div>\n",
       "<table border=\"1\" class=\"dataframe\">\n",
       "  <thead>\n",
       "    <tr style=\"text-align: right;\">\n",
       "      <th></th>\n",
       "      <th>2010.0</th>\n",
       "      <th>2011.0</th>\n",
       "      <th>2012.0</th>\n",
       "      <th>2014.0</th>\n",
       "      <th>2015.0</th>\n",
       "      <th>2016.0</th>\n",
       "      <th>2017.0</th>\n",
       "      <th>change_11to16</th>\n",
       "    </tr>\n",
       "    <tr>\n",
       "      <th></th>\n",
       "      <th></th>\n",
       "      <th></th>\n",
       "      <th></th>\n",
       "      <th></th>\n",
       "      <th></th>\n",
       "      <th></th>\n",
       "      <th></th>\n",
       "      <th></th>\n",
       "    </tr>\n",
       "  </thead>\n",
       "  <tbody>\n",
       "    <tr>\n",
       "      <th>Strawberries</th>\n",
       "      <td>0.0</td>\n",
       "      <td>830.0</td>\n",
       "      <td>660.0</td>\n",
       "      <td>0.0</td>\n",
       "      <td>953.0</td>\n",
       "      <td>3695.0</td>\n",
       "      <td>1620.0</td>\n",
       "      <td>2865.0</td>\n",
       "    </tr>\n",
       "    <tr>\n",
       "      <th>Lettuce</th>\n",
       "      <td>0.0</td>\n",
       "      <td>532.0</td>\n",
       "      <td>45.0</td>\n",
       "      <td>0.0</td>\n",
       "      <td>1210.0</td>\n",
       "      <td>2052.0</td>\n",
       "      <td>2201.0</td>\n",
       "      <td>1520.0</td>\n",
       "    </tr>\n",
       "    <tr>\n",
       "      <th>Broccoli</th>\n",
       "      <td>0.0</td>\n",
       "      <td>0.0</td>\n",
       "      <td>0.0</td>\n",
       "      <td>0.0</td>\n",
       "      <td>0.0</td>\n",
       "      <td>748.0</td>\n",
       "      <td>12.0</td>\n",
       "      <td>748.0</td>\n",
       "    </tr>\n",
       "    <tr>\n",
       "      <th>Raspberries</th>\n",
       "      <td>0.0</td>\n",
       "      <td>0.0</td>\n",
       "      <td>0.0</td>\n",
       "      <td>0.0</td>\n",
       "      <td>0.0</td>\n",
       "      <td>531.0</td>\n",
       "      <td>0.0</td>\n",
       "      <td>531.0</td>\n",
       "    </tr>\n",
       "    <tr>\n",
       "      <th>Tomatoes</th>\n",
       "      <td>0.0</td>\n",
       "      <td>0.0</td>\n",
       "      <td>350.0</td>\n",
       "      <td>0.0</td>\n",
       "      <td>49.0</td>\n",
       "      <td>475.0</td>\n",
       "      <td>80.0</td>\n",
       "      <td>475.0</td>\n",
       "    </tr>\n",
       "    <tr>\n",
       "      <th>Onions</th>\n",
       "      <td>0.0</td>\n",
       "      <td>0.0</td>\n",
       "      <td>0.0</td>\n",
       "      <td>0.0</td>\n",
       "      <td>0.0</td>\n",
       "      <td>380.0</td>\n",
       "      <td>222.0</td>\n",
       "      <td>380.0</td>\n",
       "    </tr>\n",
       "    <tr>\n",
       "      <th>Celery</th>\n",
       "      <td>0.0</td>\n",
       "      <td>0.0</td>\n",
       "      <td>0.0</td>\n",
       "      <td>0.0</td>\n",
       "      <td>220.0</td>\n",
       "      <td>364.0</td>\n",
       "      <td>61.0</td>\n",
       "      <td>364.0</td>\n",
       "    </tr>\n",
       "    <tr>\n",
       "      <th>Berries</th>\n",
       "      <td>0.0</td>\n",
       "      <td>0.0</td>\n",
       "      <td>0.0</td>\n",
       "      <td>0.0</td>\n",
       "      <td>60.0</td>\n",
       "      <td>341.0</td>\n",
       "      <td>310.0</td>\n",
       "      <td>341.0</td>\n",
       "    </tr>\n",
       "    <tr>\n",
       "      <th>Sheep</th>\n",
       "      <td>8.0</td>\n",
       "      <td>370.0</td>\n",
       "      <td>260.0</td>\n",
       "      <td>204.0</td>\n",
       "      <td>723.0</td>\n",
       "      <td>662.0</td>\n",
       "      <td>148.0</td>\n",
       "      <td>292.0</td>\n",
       "    </tr>\n",
       "    <tr>\n",
       "      <th>Grapes</th>\n",
       "      <td>0.0</td>\n",
       "      <td>30.0</td>\n",
       "      <td>59.0</td>\n",
       "      <td>0.0</td>\n",
       "      <td>34.0</td>\n",
       "      <td>246.0</td>\n",
       "      <td>511.0</td>\n",
       "      <td>216.0</td>\n",
       "    </tr>\n",
       "  </tbody>\n",
       "</table>\n",
       "</div>"
      ],
      "text/plain": [
       "              2010.0  2011.0  2012.0  2014.0  2015.0  2016.0  2017.0  \\\n",
       "                                                                       \n",
       "Strawberries     0.0   830.0   660.0     0.0   953.0  3695.0  1620.0   \n",
       "Lettuce          0.0   532.0    45.0     0.0  1210.0  2052.0  2201.0   \n",
       "Broccoli         0.0     0.0     0.0     0.0     0.0   748.0    12.0   \n",
       "Raspberries      0.0     0.0     0.0     0.0     0.0   531.0     0.0   \n",
       "Tomatoes         0.0     0.0   350.0     0.0    49.0   475.0    80.0   \n",
       "Onions           0.0     0.0     0.0     0.0     0.0   380.0   222.0   \n",
       "Celery           0.0     0.0     0.0     0.0   220.0   364.0    61.0   \n",
       "Berries          0.0     0.0     0.0     0.0    60.0   341.0   310.0   \n",
       "Sheep            8.0   370.0   260.0   204.0   723.0   662.0   148.0   \n",
       "Grapes           0.0    30.0    59.0     0.0    34.0   246.0   511.0   \n",
       "\n",
       "              change_11to16  \n",
       "                             \n",
       "Strawberries         2865.0  \n",
       "Lettuce              1520.0  \n",
       "Broccoli              748.0  \n",
       "Raspberries           531.0  \n",
       "Tomatoes              475.0  \n",
       "Onions                380.0  \n",
       "Celery                364.0  \n",
       "Berries               341.0  \n",
       "Sheep                 292.0  \n",
       "Grapes                216.0  "
      ]
     },
     "execution_count": 138,
     "metadata": {},
     "output_type": "execute_result"
    }
   ],
   "source": [
    "crops_crosstab.sort_values(\"change_11to16\", ascending=False).head(10)"
   ]
  },
  {
   "cell_type": "markdown",
   "metadata": {},
   "source": [
    "Ouput for a graphic"
   ]
  },
  {
   "cell_type": "code",
   "execution_count": 139,
   "metadata": {
    "collapsed": true
   },
   "outputs": [],
   "source": [
    "crops_crosstab.to_csv(os.path.join(output_dir, \"crops-crosstab.csv\"))"
   ]
  },
  {
   "cell_type": "markdown",
   "metadata": {},
   "source": [
    "### Finding: The Santa Maria Valley, straddling San Louis Obispo and Santa Barbara counties, leapt from six sheepherders in 2012 to more than 2,000 guest farm workers last year"
   ]
  },
  {
   "cell_type": "markdown",
   "metadata": {},
   "source": [
    "Filter down to subcases in those two counties"
   ]
  },
  {
   "cell_type": "code",
   "execution_count": 140,
   "metadata": {
    "collapsed": true
   },
   "outputs": [],
   "source": [
    "smvalley = gdf_with_county[gdf_with_county.NAME.isin(['Santa Barbara', 'San Luis Obispo'])]"
   ]
  },
  {
   "cell_type": "markdown",
   "metadata": {},
   "source": [
    "Count the total number of workers there by year"
   ]
  },
  {
   "cell_type": "code",
   "execution_count": 141,
   "metadata": {
    "collapsed": true
   },
   "outputs": [],
   "source": [
    "smvalley_crosstab = smvalley.groupby([\n",
    "    'certification_start_year'\n",
    "]).net_workers.sum().reset_index().set_index(\"certification_start_year\")"
   ]
  },
  {
   "cell_type": "markdown",
   "metadata": {},
   "source": [
    "Ouput the totals"
   ]
  },
  {
   "cell_type": "code",
   "execution_count": 142,
   "metadata": {},
   "outputs": [
    {
     "data": {
      "text/plain": [
       "<matplotlib.axes._subplots.AxesSubplot at 0x7fc00de28210>"
      ]
     },
     "execution_count": 142,
     "metadata": {},
     "output_type": "execute_result"
    },
    {
     "data": {
      "image/png": "[encoded data removed]",
      "text/plain": [
       "<matplotlib.figure.Figure at 0x7fc00dda3bd0>"
      ]
     },
     "metadata": {},
     "output_type": "display_data"
    }
   ],
   "source": [
    "smvalley_crosstab.plot.bar()"
   ]
  },
  {
   "cell_type": "code",
   "execution_count": 143,
   "metadata": {},
   "outputs": [
    {
     "data": {
      "text/html": [
       "<div>\n",
       "<table border=\"1\" class=\"dataframe\">\n",
       "  <thead>\n",
       "    <tr style=\"text-align: right;\">\n",
       "      <th></th>\n",
       "      <th>net_workers</th>\n",
       "    </tr>\n",
       "    <tr>\n",
       "      <th>certification_start_year</th>\n",
       "      <th></th>\n",
       "    </tr>\n",
       "  </thead>\n",
       "  <tbody>\n",
       "    <tr>\n",
       "      <th>2008.0</th>\n",
       "      <td>11.0</td>\n",
       "    </tr>\n",
       "    <tr>\n",
       "      <th>2009.0</th>\n",
       "      <td>16.0</td>\n",
       "    </tr>\n",
       "    <tr>\n",
       "      <th>2010.0</th>\n",
       "      <td>7.0</td>\n",
       "    </tr>\n",
       "    <tr>\n",
       "      <th>2011.0</th>\n",
       "      <td>12.0</td>\n",
       "    </tr>\n",
       "    <tr>\n",
       "      <th>2012.0</th>\n",
       "      <td>6.0</td>\n",
       "    </tr>\n",
       "    <tr>\n",
       "      <th>2013.0</th>\n",
       "      <td>210.0</td>\n",
       "    </tr>\n",
       "    <tr>\n",
       "      <th>2014.0</th>\n",
       "      <td>992.0</td>\n",
       "    </tr>\n",
       "    <tr>\n",
       "      <th>2015.0</th>\n",
       "      <td>1599.0</td>\n",
       "    </tr>\n",
       "    <tr>\n",
       "      <th>2016.0</th>\n",
       "      <td>2089.0</td>\n",
       "    </tr>\n",
       "    <tr>\n",
       "      <th>2017.0</th>\n",
       "      <td>1486.0</td>\n",
       "    </tr>\n",
       "  </tbody>\n",
       "</table>\n",
       "</div>"
      ],
      "text/plain": [
       "                          net_workers\n",
       "certification_start_year             \n",
       "2008.0                           11.0\n",
       "2009.0                           16.0\n",
       "2010.0                            7.0\n",
       "2011.0                           12.0\n",
       "2012.0                            6.0\n",
       "2013.0                          210.0\n",
       "2014.0                          992.0\n",
       "2015.0                         1599.0\n",
       "2016.0                         2089.0\n",
       "2017.0                         1486.0"
      ]
     },
     "execution_count": 143,
     "metadata": {},
     "output_type": "execute_result"
    }
   ],
   "source": [
    "smvalley_crosstab"
   ]
  },
  {
   "cell_type": "markdown",
   "metadata": {},
   "source": [
    "Look at the crop for those 2012 workers"
   ]
  },
  {
   "cell_type": "code",
   "execution_count": 144,
   "metadata": {},
   "outputs": [
    {
     "data": {
      "text/html": [
       "<div>\n",
       "<table border=\"1\" class=\"dataframe\">\n",
       "  <thead>\n",
       "    <tr style=\"text-align: right;\">\n",
       "      <th></th>\n",
       "      <th>case_number</th>\n",
       "      <th>employer</th>\n",
       "      <th>city</th>\n",
       "      <th>job_title</th>\n",
       "      <th>crop</th>\n",
       "      <th>net_workers</th>\n",
       "    </tr>\n",
       "  </thead>\n",
       "  <tbody>\n",
       "    <tr>\n",
       "      <th>735</th>\n",
       "      <td>C-11304-30370</td>\n",
       "      <td>ST. MARTIN JAUREGUY</td>\n",
       "      <td>PASO ROBLES</td>\n",
       "      <td>FARMWORKERS, FARM AND RANCH ANIMALS</td>\n",
       "      <td>Sheepherder</td>\n",
       "      <td>1.0</td>\n",
       "    </tr>\n",
       "    <tr>\n",
       "      <th>735</th>\n",
       "      <td>C-11361-31115</td>\n",
       "      <td>ST. MARTIN JAUREGUY</td>\n",
       "      <td>PASO ROBLES</td>\n",
       "      <td>SHEEPHERDER</td>\n",
       "      <td>Sheepherder</td>\n",
       "      <td>2.0</td>\n",
       "    </tr>\n",
       "    <tr>\n",
       "      <th>735</th>\n",
       "      <td>C-12033-32422</td>\n",
       "      <td>JEAN B JAUREGUY</td>\n",
       "      <td>PASO ROBLES</td>\n",
       "      <td>SHEEPHERDER</td>\n",
       "      <td>Sheepherder</td>\n",
       "      <td>1.0</td>\n",
       "    </tr>\n",
       "    <tr>\n",
       "      <th>735</th>\n",
       "      <td>C-12033-32422</td>\n",
       "      <td>ST. MARTIN JAUREGUY</td>\n",
       "      <td>PASO ROBLES</td>\n",
       "      <td>SHEEPHERDER</td>\n",
       "      <td>Sheepherder</td>\n",
       "      <td>1.0</td>\n",
       "    </tr>\n",
       "    <tr>\n",
       "      <th>735</th>\n",
       "      <td>C-12193-35263</td>\n",
       "      <td>JEAN B. JAUREGUY #01568</td>\n",
       "      <td>PASO ROBLES</td>\n",
       "      <td>FARMWORKERS, FARM AND RANCH ANIMALS</td>\n",
       "      <td>Sheepherder</td>\n",
       "      <td>1.0</td>\n",
       "    </tr>\n",
       "  </tbody>\n",
       "</table>\n",
       "</div>"
      ],
      "text/plain": [
       "       case_number                 employer         city  \\\n",
       "735  C-11304-30370      ST. MARTIN JAUREGUY  PASO ROBLES   \n",
       "735  C-11361-31115      ST. MARTIN JAUREGUY  PASO ROBLES   \n",
       "735  C-12033-32422          JEAN B JAUREGUY  PASO ROBLES   \n",
       "735  C-12033-32422      ST. MARTIN JAUREGUY  PASO ROBLES   \n",
       "735  C-12193-35263  JEAN B. JAUREGUY #01568  PASO ROBLES   \n",
       "\n",
       "                               job_title         crop  net_workers  \n",
       "735  FARMWORKERS, FARM AND RANCH ANIMALS  Sheepherder          1.0  \n",
       "735                          SHEEPHERDER  Sheepherder          2.0  \n",
       "735                          SHEEPHERDER  Sheepherder          1.0  \n",
       "735                          SHEEPHERDER  Sheepherder          1.0  \n",
       "735  FARMWORKERS, FARM AND RANCH ANIMALS  Sheepherder          1.0  "
      ]
     },
     "execution_count": 144,
     "metadata": {},
     "output_type": "execute_result"
    }
   ],
   "source": [
    "smvalley[smvalley.certification_start_year == 2012][[\n",
    "    'case_number',\n",
    "    'employer',\n",
    "    'city',\n",
    "    'job_title',\n",
    "    'crop',\n",
    "    'net_workers'\n",
    "]]"
   ]
  },
  {
   "cell_type": "markdown",
   "metadata": {},
   "source": [
    "### Finding: Strawberry workers account for most of the growth in that area"
   ]
  },
  {
   "cell_type": "code",
   "execution_count": 145,
   "metadata": {
    "collapsed": true
   },
   "outputs": [],
   "source": [
    "smvalley_crops = smvalley[smvalley.certification_start_year == 2016].groupby([\n",
    "    'latimes_crop'\n",
    "]).net_workers.sum().reset_index().set_index(\"latimes_crop\")"
   ]
  },
  {
   "cell_type": "code",
   "execution_count": 146,
   "metadata": {},
   "outputs": [
    {
     "data": {
      "text/html": [
       "<div>\n",
       "<table border=\"1\" class=\"dataframe\">\n",
       "  <thead>\n",
       "    <tr style=\"text-align: right;\">\n",
       "      <th></th>\n",
       "      <th>net_workers</th>\n",
       "    </tr>\n",
       "    <tr>\n",
       "      <th>latimes_crop</th>\n",
       "      <th></th>\n",
       "    </tr>\n",
       "  </thead>\n",
       "  <tbody>\n",
       "    <tr>\n",
       "      <th>Strawberries</th>\n",
       "      <td>1075.0</td>\n",
       "    </tr>\n",
       "    <tr>\n",
       "      <th>Lettuce</th>\n",
       "      <td>324.0</td>\n",
       "    </tr>\n",
       "    <tr>\n",
       "      <th>Blackberries</th>\n",
       "      <td>133.0</td>\n",
       "    </tr>\n",
       "    <tr>\n",
       "      <th>Celery</th>\n",
       "      <td>95.0</td>\n",
       "    </tr>\n",
       "    <tr>\n",
       "      <th>Other</th>\n",
       "      <td>75.0</td>\n",
       "    </tr>\n",
       "    <tr>\n",
       "      <th>Zucchini</th>\n",
       "      <td>73.0</td>\n",
       "    </tr>\n",
       "    <tr>\n",
       "      <th>Broccoli</th>\n",
       "      <td>53.0</td>\n",
       "    </tr>\n",
       "    <tr>\n",
       "      <th>Peppers</th>\n",
       "      <td>45.0</td>\n",
       "    </tr>\n",
       "    <tr>\n",
       "      <th>Squash</th>\n",
       "      <td>39.0</td>\n",
       "    </tr>\n",
       "    <tr>\n",
       "      <th>Bok Choy</th>\n",
       "      <td>37.0</td>\n",
       "    </tr>\n",
       "  </tbody>\n",
       "</table>\n",
       "</div>"
      ],
      "text/plain": [
       "              net_workers\n",
       "latimes_crop             \n",
       "Strawberries       1075.0\n",
       "Lettuce             324.0\n",
       "Blackberries        133.0\n",
       "Celery               95.0\n",
       "Other                75.0\n",
       "Zucchini             73.0\n",
       "Broccoli             53.0\n",
       "Peppers              45.0\n",
       "Squash               39.0\n",
       "Bok Choy             37.0"
      ]
     },
     "execution_count": 146,
     "metadata": {},
     "output_type": "execute_result"
    }
   ],
   "source": [
    "smvalley_crops.sort_values(\"net_workers\", ascending=False).head(10)"
   ]
  }
 ],
 "metadata": {
  "kernelspec": {
   "display_name": "Python 2",
   "language": "python",
   "name": "python2"
  },
  "language_info": {
   "codemirror_mode": {
    "name": "ipython",
    "version": 2
   },
   "file_extension": ".py",
   "mimetype": "text/x-python",
   "name": "python",
   "nbconvert_exporter": "python",
   "pygments_lexer": "ipython2",
   "version": "2.7.12+"
  }
 },
 "nbformat": 4,
 "nbformat_minor": 2
}
