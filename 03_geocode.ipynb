{
 "cells": [
  {
   "cell_type": "markdown",
   "metadata": {},
   "source": [
    "# Geocode\n",
    "\n",
    "Mapping the H2A visa work sites"
   ]
  },
  {
   "cell_type": "code",
   "execution_count": 73,
   "metadata": {
    "collapsed": true
   },
   "outputs": [],
   "source": [
    "import os\n",
    "import csv\n",
    "import time\n",
    "import random\n",
    "import calculate\n",
    "import numpy as np\n",
    "import pandas as pd\n",
    "import timeout_decorator\n",
    "from geopy import Location\n",
    "from geopy.geocoders import Bing"
   ]
  },
  {
   "cell_type": "code",
   "execution_count": 74,
   "metadata": {
    "collapsed": true
   },
   "outputs": [],
   "source": [
    "import warnings\n",
    "warnings.filterwarnings(\"ignore\")"
   ]
  },
  {
   "cell_type": "markdown",
   "metadata": {},
   "source": [
    "Read in all the visas"
   ]
  },
  {
   "cell_type": "code",
   "execution_count": 75,
   "metadata": {
    "collapsed": true
   },
   "outputs": [],
   "source": [
    "df = pd.concat([\n",
    "    pd.read_csv(\"./output/transformed_master_cases.csv\"),\n",
    "    pd.read_csv(\"./output/transformed_sub_cases.csv\"),\n",
    "])"
   ]
  },
  {
   "cell_type": "markdown",
   "metadata": {},
   "source": [
    "Extract the distinct locations"
   ]
  },
  {
   "cell_type": "code",
   "execution_count": 76,
   "metadata": {
    "collapsed": true
   },
   "outputs": [],
   "source": [
    "locations = df.groupby(['city', 'state']).size().reset_index().rename(columns={0: \"count\"})"
   ]
  },
  {
   "cell_type": "markdown",
   "metadata": {},
   "source": [
    "Read in previously geocoded locations"
   ]
  },
  {
   "cell_type": "code",
   "execution_count": 77,
   "metadata": {
    "collapsed": true
   },
   "outputs": [],
   "source": [
    "geocoded = pd.read_csv(\"./output/geocoded.csv\")"
   ]
  },
  {
   "cell_type": "code",
   "execution_count": 78,
   "metadata": {
    "collapsed": true
   },
   "outputs": [],
   "source": [
    "geocode_cache = dict(\n",
    "    (d['key'], d) for i, d in geocoded.iterrows()\n",
    ")"
   ]
  },
  {
   "cell_type": "markdown",
   "metadata": {},
   "source": [
    "Identify how many remain unmapped"
   ]
  },
  {
   "cell_type": "code",
   "execution_count": 79,
   "metadata": {
    "collapsed": true
   },
   "outputs": [],
   "source": [
    "df['key'] = df.apply(lambda x: \"{}, {}\".format(x.city, x.state), axis=1)"
   ]
  },
  {
   "cell_type": "code",
   "execution_count": 80,
   "metadata": {
    "collapsed": true
   },
   "outputs": [],
   "source": [
    "not_geocoded = df[~df.key.isin(geocoded.key)]"
   ]
  },
  {
   "cell_type": "code",
   "execution_count": 81,
   "metadata": {},
   "outputs": [
    {
     "name": "stdout",
     "output_type": "stream",
     "text": [
      "83,087 of 83,088 geocoded (99.9987964568%)\n"
     ]
    }
   ],
   "source": [
    "print \"{:,} of {:,} geocoded ({}%)\".format(\n",
    "    len(df) - len(not_geocoded),\n",
    "    len(df),\n",
    "    calculate.percentage(len(df) - len(not_geocoded), len(df))\n",
    ")"
   ]
  },
  {
   "cell_type": "markdown",
   "metadata": {},
   "source": [
    "Extract the unmapped locations"
   ]
  },
  {
   "cell_type": "code",
   "execution_count": 82,
   "metadata": {
    "collapsed": true
   },
   "outputs": [],
   "source": [
    "unmapped = not_geocoded.groupby(['key']).size().reset_index().rename(columns={0: \"count\"})"
   ]
  },
  {
   "cell_type": "code",
   "execution_count": 83,
   "metadata": {
    "collapsed": true
   },
   "outputs": [],
   "source": [
    "df_list = list(unmapped.iterrows())"
   ]
  },
  {
   "cell_type": "code",
   "execution_count": 84,
   "metadata": {
    "collapsed": true
   },
   "outputs": [],
   "source": [
    "random.shuffle(df_list)"
   ]
  },
  {
   "cell_type": "markdown",
   "metadata": {},
   "source": [
    "Try to geocode them"
   ]
  },
  {
   "cell_type": "code",
   "execution_count": 85,
   "metadata": {
    "collapsed": true
   },
   "outputs": [],
   "source": [
    "@timeout_decorator.timeout(10)\n",
    "def bingit(key):\n",
    "    bing = Bing(os.getenv(\"BING_API_KEY\"), timeout=10)\n",
    "    address = \"{}, United States\".format(key)\n",
    "    print \"Geocoding {}\".format(address)\n",
    "    try:\n",
    "        geocode_cache[key]\n",
    "        print \"Already mapped\"\n",
    "        return\n",
    "    except KeyError:\n",
    "        pass\n",
    "\n",
    "    result = bing.geocode(address, exactly_one=False)\n",
    "    if not result:\n",
    "        return\n",
    "    first_result = result[0]\n",
    "\n",
    "    print \"Mapped to {}\".format(first_result)\n",
    "    geocode_cache[key] = first_result\n",
    "    time.sleep(0.5)"
   ]
  },
  {
   "cell_type": "code",
   "execution_count": 86,
   "metadata": {
    "scrolled": true
   },
   "outputs": [
    {
     "name": "stdout",
     "output_type": "stream",
     "text": [
      "Geocoding Juniata, NE, United States\n",
      "Mapped to Juniata, NE, United States\n"
     ]
    }
   ],
   "source": [
    "for i, row in df_list:\n",
    "    try:\n",
    "        bingit(row.key)\n",
    "    except:\n",
    "        print \"TIMEOUT\"\n",
    "        continue"
   ]
  },
  {
   "cell_type": "markdown",
   "metadata": {},
   "source": [
    "Merged the newly geocoded locations with the old ones"
   ]
  },
  {
   "cell_type": "code",
   "execution_count": 87,
   "metadata": {
    "collapsed": true
   },
   "outputs": [],
   "source": [
    "def transform_geocode(key, value):\n",
    "    if isinstance(value, pd.Series):\n",
    "        return [key, value['geocoder_address'], value['lat'], value['lng'], value['geocoder_type']]\n",
    "    return [key, value.address, value.latitude, value.longitude, \"bing\"]"
   ]
  },
  {
   "cell_type": "code",
   "execution_count": 88,
   "metadata": {
    "collapsed": true
   },
   "outputs": [],
   "source": [
    "rows = [transform_geocode(k, v) for k, v in geocode_cache.items()]"
   ]
  },
  {
   "cell_type": "code",
   "execution_count": 89,
   "metadata": {
    "collapsed": true
   },
   "outputs": [],
   "source": [
    "rows.sort(key=lambda x:x[0])"
   ]
  },
  {
   "cell_type": "markdown",
   "metadata": {},
   "source": [
    "Save the geocoded locations"
   ]
  },
  {
   "cell_type": "code",
   "execution_count": 90,
   "metadata": {
    "collapsed": true
   },
   "outputs": [],
   "source": [
    "with open(\"./output/geocoded.csv\", 'w') as f:\n",
    "    w = csv.writer(f)\n",
    "    w.writerow([\"key\", \"geocoder_address\", \"lat\", \"lng\", \"geocoder_type\"])\n",
    "    w.writerows(rows)"
   ]
  },
  {
   "cell_type": "markdown",
   "metadata": {},
   "source": [
    "Merge geocoded points onto cases"
   ]
  },
  {
   "cell_type": "code",
   "execution_count": 91,
   "metadata": {
    "collapsed": true
   },
   "outputs": [],
   "source": [
    "mapped = pd.read_csv(\"./output/geocoded.csv\")"
   ]
  },
  {
   "cell_type": "code",
   "execution_count": 92,
   "metadata": {
    "collapsed": true
   },
   "outputs": [],
   "source": [
    "def create_key(row):\n",
    "    # Skip any nulls\n",
    "    if row.city in [np.NaN, 'nan', '']:\n",
    "        return ''\n",
    "    elif row.state in [np.NaN, 'nan', '']:\n",
    "        return ''\n",
    "    else:\n",
    "        return \"{}, {}\".format(row.city, row.state)"
   ]
  },
  {
   "cell_type": "code",
   "execution_count": 93,
   "metadata": {
    "collapsed": true
   },
   "outputs": [],
   "source": [
    "def add_points(name):\n",
    "    df = pd.read_csv(\"./output/transformed_{}.csv\".format(name))\n",
    "    df['key'] = df.apply(create_key, axis=1)\n",
    "    mapped_df = df.merge(mapped, on=[\"key\"], how=\"left\")\n",
    "    mapped_df.drop('key', axis=1, inplace=True)\n",
    "    mapped_df.to_csv(\"./output/geocoded_{}.csv\".format(name), index=False, encoding=\"utf-8\")"
   ]
  },
  {
   "cell_type": "code",
   "execution_count": 94,
   "metadata": {
    "collapsed": true
   },
   "outputs": [],
   "source": [
    "add_points(\"master_cases\")"
   ]
  },
  {
   "cell_type": "code",
   "execution_count": 95,
   "metadata": {
    "collapsed": true
   },
   "outputs": [],
   "source": [
    "add_points(\"sub_cases\")"
   ]
  },
  {
   "cell_type": "code",
   "execution_count": 96,
   "metadata": {
    "collapsed": true
   },
   "outputs": [],
   "source": [
    "add_points(\"all_cases\")"
   ]
  }
 ],
 "metadata": {
  "kernelspec": {
   "display_name": "Python 2",
   "language": "python",
   "name": "python2"
  },
  "language_info": {
   "codemirror_mode": {
    "name": "ipython",
    "version": 2
   },
   "file_extension": ".py",
   "mimetype": "text/x-python",
   "name": "python",
   "nbconvert_exporter": "python",
   "pygments_lexer": "ipython2",
   "version": "2.7.12+"
  }
 },
 "nbformat": 4,
 "nbformat_minor": 2
}
