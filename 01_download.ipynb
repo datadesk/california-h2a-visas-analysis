{
 "cells": [
  {
   "cell_type": "markdown",
   "metadata": {},
   "source": [
    "# Download"
   ]
  },
  {
   "cell_type": "markdown",
   "metadata": {},
   "source": [
    "Download the source data files from the [U.S. Department of Labor's Office of Foreign Labor Certification](https://www.foreignlaborcert.doleta.gov/performancedata.cfm)."
   ]
  },
  {
   "cell_type": "code",
   "execution_count": 2,
   "metadata": {},
   "outputs": [
    {
     "name": "stdout",
     "output_type": "stream",
     "text": [
      "  % Total    % Received % Xferd  Average Speed   Time    Time     Time  Current\n",
      "                                 Dload  Upload   Total   Spent    Left  Speed\n",
      "100 2449k  100 2449k    0     0   713k      0  0:00:03  0:00:03 --:--:--  714k\n",
      "  % Total    % Received % Xferd  Average Speed   Time    Time     Time  Current\n",
      "                                 Dload  Upload   Total   Spent    Left  Speed\n",
      "100 3624k  100 3624k    0     0   780k      0  0:00:04  0:00:04 --:--:--  810k\n",
      "  % Total    % Received % Xferd  Average Speed   Time    Time     Time  Current\n",
      "                                 Dload  Upload   Total   Spent    Left  Speed\n",
      "100 3221k  100 3221k    0     0   778k      0  0:00:04  0:00:04 --:--:--  778k--:--  0:24:10  2273\n",
      "  % Total    % Received % Xferd  Average Speed   Time    Time     Time  Current\n",
      "                                 Dload  Upload   Total   Spent    Left  Speed\n",
      "100 1730k  100 1730k    0     0   684k      0  0:00:02  0:00:02 --:--:--  684k\n",
      "  % Total    % Received % Xferd  Average Speed   Time    Time     Time  Current\n",
      "                                 Dload  Upload   Total   Spent    Left  Speed\n",
      "100 3280k  100 3280k    0     0   767k      0  0:00:04  0:00:04 --:--:--  767k\n",
      "  % Total    % Received % Xferd  Average Speed   Time    Time     Time  Current\n",
      "                                 Dload  Upload   Total   Spent    Left  Speed\n",
      "100 1346k  100 1346k    0     0   645k      0  0:00:02  0:00:02 --:--:--  645k\n",
      "  % Total    % Received % Xferd  Average Speed   Time    Time     Time  Current\n",
      "                                 Dload  Upload   Total   Spent    Left  Speed\n",
      "100 1234k  100 1234k    0     0   607k      0  0:00:02  0:00:02 --:--:--  608k\n",
      "  % Total    % Received % Xferd  Average Speed   Time    Time     Time  Current\n",
      "                                 Dload  Upload   Total   Spent    Left  Speed\n",
      "100 1364k  100 1364k    0     0   656k      0  0:00:02  0:00:02 --:--:--  656k\n",
      "  % Total    % Received % Xferd  Average Speed   Time    Time     Time  Current\n",
      "                                 Dload  Upload   Total   Spent    Left  Speed\n",
      "100 1523k  100 1523k    0     0   711k      0  0:00:02  0:00:02 --:--:--  711k\n",
      "  % Total    % Received % Xferd  Average Speed   Time    Time     Time  Current\n",
      "                                 Dload  Upload   Total   Spent    Left  Speed\n",
      "100 1371k  100 1371k    0     0   660k      0  0:00:02  0:00:02 --:--:--  660k\n"
     ]
    }
   ],
   "source": [
    "!curl -o input/2017.xlsx https://www.foreignlaborcert.doleta.gov/pdf/PerformanceData/2017/H-2A_Disclosure_Data_FY17.xlsx\n",
    "!curl -o input/2016.xlsx https://www.foreignlaborcert.doleta.gov/docs/Performance_Data/Disclosure/FY15-FY16/H-2A_Disclosure_Data_FY16.xlsx\n",
    "!curl -o input/2015.xlsx https://www.foreignlaborcert.doleta.gov/docs/py2015q4/H-2A_Disclosure_Data_FY15_Q4.xlsx\n",
    "!curl -o input/2014.xlsx https://www.foreignlaborcert.doleta.gov/docs/py2014q4/H-2A_FY14_Q4.xlsx\n",
    "!curl -o input/2013.xlsx https://www.foreignlaborcert.doleta.gov/docs/h_2a/H2A_FY2013.xls\n",
    "!curl -o input/2012.xlsx https://www.foreignlaborcert.doleta.gov/docs/h_2a/H-2A_FY2012.xlsx\n",
    "!curl -o input/2011.xlsx https://www.foreignlaborcert.doleta.gov/docs/h_2a/H-2A_FY2011.xlsx\n",
    "!curl -o input/2010.xlsx https://www.foreignlaborcert.doleta.gov/docs/h_2a/H-2A_FY2010.xlsx\n",
    "!curl -o input/2009.xlsx https://www.foreignlaborcert.doleta.gov/docs/h_2a/H2A_FY2009.xlsx\n",
    "!curl -o input/2008.xlsx https://www.foreignlaborcert.doleta.gov/docs/h_2a/H2A_FY2008.xlsx"
   ]
  },
  {
   "cell_type": "code",
   "execution_count": null,
   "metadata": {
    "collapsed": true
   },
   "outputs": [],
   "source": []
  }
 ],
 "metadata": {
  "kernelspec": {
   "display_name": "Python 2",
   "language": "python",
   "name": "python2"
  },
  "language_info": {
   "codemirror_mode": {
    "name": "ipython",
    "version": 2
   },
   "file_extension": ".py",
   "mimetype": "text/x-python",
   "name": "python",
   "nbconvert_exporter": "python",
   "pygments_lexer": "ipython2",
   "version": "2.7.12+"
  }
 },
 "nbformat": 4,
 "nbformat_minor": 2
}
